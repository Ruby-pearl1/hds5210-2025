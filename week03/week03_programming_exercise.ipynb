{
  "cells": [
    {
      "cell_type": "markdown",
      "metadata": {
        "id": "view-in-github",
        "colab_type": "text"
      },
      "source": [
        "<a href=\"https://colab.research.google.com/github/Ruby-pearl1/hds5210-2025/blob/main/week03/week03_programming_exercise.ipynb\" target=\"_parent\"><img src=\"https://colab.research.google.com/assets/colab-badge.svg\" alt=\"Open In Colab\"/></a>"
      ]
    },
    {
      "cell_type": "markdown",
      "id": "5c8fa409",
      "metadata": {
        "id": "5c8fa409"
      },
      "source": [
        "# Week 3 Exercises"
      ]
    },
    {
      "cell_type": "markdown",
      "id": "e9f7c824",
      "metadata": {
        "id": "e9f7c824"
      },
      "source": [
        "\n",
        "See: *McKinney 2.3* and [Python Documentation](https://docs.python.org/3/tutorial/controlflow.html) section 4 on flow control.\n",
        "\n",
        "At the beginning of the semester, all of the workshop programming exercises will be structured a specific way to make it easier\n",
        "to verify for yourself that you're on the right track as well as easier for me to do a first pass on automated grading.\n"
      ]
    },
    {
      "cell_type": "markdown",
      "id": "c540278e",
      "metadata": {
        "id": "c540278e"
      },
      "source": [
        "**WHAT I PROVIDE:**"
      ]
    },
    {
      "cell_type": "code",
      "execution_count": 15,
      "id": "2294d3ea",
      "metadata": {
        "id": "2294d3ea"
      },
      "outputs": [],
      "source": [
        "def some_function(parameter1, parameter2):\n",
        "    ### BEGIN SOLUTION\n",
        "    x = -1\n",
        "    ### END SOLUTION\n",
        "    return x"
      ]
    },
    {
      "cell_type": "markdown",
      "id": "90a34a57",
      "metadata": {
        "id": "90a34a57"
      },
      "source": [
        "**WHAT YOU SHOULD DO:**"
      ]
    },
    {
      "cell_type": "code",
      "execution_count": 16,
      "id": "87c8e2df",
      "metadata": {
        "id": "87c8e2df"
      },
      "outputs": [],
      "source": [
        "def some_function(a, b):\n",
        "    ### BEGIN SOLUTION\n",
        "    temp = a + b\n",
        "    x = temp / a * b\n",
        "    ### END SOLUTION\n",
        "    return x"
      ]
    },
    {
      "cell_type": "markdown",
      "id": "bbf35339",
      "metadata": {
        "id": "bbf35339"
      },
      "source": [
        "## 14.1 Difference in rate per 1,000\n",
        "\n",
        "Often in public health, we report metrics as a number per 1,000 or per 1,000,000 in population.\n",
        "The purpose of that is to normalize the numbers between area of larger and smaller populations.\n",
        "\n",
        "Below, we have a function already built to calculate the difference in rate per 1,000 in two different regions.\n",
        "The function normalizes them and then prints out a message describing their difference."
      ]
    },
    {
      "cell_type": "code",
      "execution_count": 1,
      "id": "03e04786",
      "metadata": {
        "id": "03e04786"
      },
      "outputs": [],
      "source": [
        "def diff_in_rate_normalized(count_a, total_a, count_b, total_b):\n",
        "    \"\"\"\n",
        "    (int, int, int, int) -> str\n",
        "    * count_a is the number of occurences in area A\n",
        "    * total_a is the total population in area A\n",
        "    * count_b is the number of occurences in area B\n",
        "    * total_b is the total population in area B\n",
        "\n",
        "    This function returns a string describing how A and B compare in terms of occurrence rates per 1,000 population\n",
        "    for example:\n",
        "      msg = \"The rate in A ({}) is greater than the rate in B ({}).\".format(rate_a, rate_b)\n",
        "    \"\"\"\n",
        "    msg = \"\"\n",
        "    ### BEGIN SOLUTION\n",
        "    ### BEGIN SOLUTION\n",
        "    # Calculate rates per 1,000\n",
        "    rate_a = (count_a / total_a) * 1000 if total_a > 0 else 0\n",
        "    rate_b = (count_b / total_b) * 1000 if total_b > 0 else 0\n",
        "\n",
        "    # Build the message based on comparison\n",
        "    if rate_a > rate_b:\n",
        "        msg = f\"The rate in A ({rate_a:.2f} per 1,000) is greater than the rate in B ({rate_b:.2f} per 1,000).\"\n",
        "    elif rate_a < rate_b:\n",
        "        msg = f\"The rate in A ({rate_a:.2f} per 1,000) is lower than the rate in B ({rate_b:.2f} per 1,000).\"\n",
        "    else:\n",
        "        msg = f\"The rate in A ({rate_a:.2f} per 1,000) is equal to the rate in B ({rate_b:.2f} per 1,000).\"\n",
        "    ### END SOLUTION\n",
        "    return msg\n",
        ""
      ]
    },
    {
      "cell_type": "code",
      "execution_count": 2,
      "id": "71a94644",
      "metadata": {
        "id": "71a94644",
        "colab": {
          "base_uri": "https://localhost:8080/"
        },
        "outputId": "ecd78ff1-bf9c-4380-b93c-fec5a214c066"
      },
      "outputs": [
        {
          "output_type": "stream",
          "name": "stdout",
          "text": [
            "The rate in A (1.00 per 1,000) is lower than the rate in B (1.50 per 1,000).\n"
          ]
        }
      ],
      "source": [
        "rate_covid_testing = diff_in_rate_normalized(1,1000,15,10000)\n",
        "print(rate_covid_testing)"
      ]
    },
    {
      "cell_type": "code",
      "execution_count": 3,
      "id": "1bf11a74",
      "metadata": {
        "id": "1bf11a74",
        "colab": {
          "base_uri": "https://localhost:8080/",
          "height": 35
        },
        "outputId": "1a41bb17-4049-422b-dbe8-f5a9359796f7"
      },
      "outputs": [
        {
          "output_type": "execute_result",
          "data": {
            "text/plain": [
              "'The rate in A (3.00 per 1,000) is equal to the rate in B (3.00 per 1,000).'"
            ],
            "application/vnd.google.colaboratory.intrinsic+json": {
              "type": "string"
            }
          },
          "metadata": {},
          "execution_count": 3
        }
      ],
      "source": [
        "diff_in_rate_normalized(3,1000,30,10000)"
      ]
    },
    {
      "cell_type": "markdown",
      "id": "153b46ed",
      "metadata": {
        "id": "153b46ed"
      },
      "source": [
        "## 14.2 Trimming outliers\n",
        "While it works well in most cases, in practice, this may not truly make numbers comparable between extremely large population centers (e.g., New York City at 8.5 million) and very small rural areas (e.g., Meeteetse, WY at 459 people).\n",
        "\n",
        "Let’s take that function and make some adjustments. If the total population of either A or B is more than 100 times larger than the other, then we want to return a different message.\n",
        "\n",
        "That is, if the populations are more than two orders of magnitude different, then we shouldn’t try to compare them."
      ]
    },
    {
      "cell_type": "code",
      "execution_count": 5,
      "id": "337cbf7f",
      "metadata": {
        "id": "337cbf7f"
      },
      "outputs": [],
      "source": [
        "def diff_in_rate_normalized(count_a, total_a, count_b, total_b):\n",
        "    \"\"\"\n",
        "    (int, int, int, int) -> str\n",
        "    * count_a is the number of occurences in area A\n",
        "    * total_a is the total population in area A\n",
        "    * count_b is the number of occurences in area B\n",
        "    * total_b is the total population in area B\n",
        "\n",
        "    This function returns a string describing how A and B compare in terms of occurrence rates per 1,000 population.\n",
        "\n",
        "    If total_a / total_b > 100 OR total_b / total_a > 100 then we'll return a message saying the two can't be compared:\n",
        "    \"The total populations in A and B are so different that they can't be compared.\"\n",
        "    \"\"\"\n",
        "    msg = \"\"\n",
        "    ### BEGIN SOLUTION\n",
        "    ### BEGIN SOLUTION\n",
        "    # Check for division by zero first\n",
        "    if total_a == 0 or total_b == 0:\n",
        "        return \"One of the populations is zero; rates cannot be calculated.\"\n",
        "\n",
        "    # Check if populations are too different to compare\n",
        "    if total_a / total_b > 100 or total_b / total_a > 100:\n",
        "        return \"The total populations in A and B are so different that they can't be compared.\"\n",
        "\n",
        "    # Calculate rates per 1,000\n",
        "    rate_a = (count_a / total_a) * 1000\n",
        "    rate_b = (count_b / total_b) * 1000\n",
        "\n",
        "    # Build comparison message\n",
        "    if rate_a > rate_b:\n",
        "        msg = f\"The rate in A ({rate_a:.2f} per 1,000) is greater than the rate in B ({rate_b:.2f} per 1,000).\"\n",
        "    elif rate_a < rate_b:\n",
        "        msg = f\"The rate in A ({rate_a:.2f} per 1,000) is lower than the rate in B ({rate_b:.2f} per 1,000).\"\n",
        "    else:\n",
        "        msg = f\"The rate in A ({rate_a:.2f} per 1,000) is equal to the rate in B ({rate_b:.2f} per 1,000).\"\n",
        "    ### END SOLUTION\n",
        "    return msg\n",
        ""
      ]
    },
    {
      "cell_type": "code",
      "execution_count": 6,
      "id": "9db42395",
      "metadata": {
        "id": "9db42395",
        "colab": {
          "base_uri": "https://localhost:8080/",
          "height": 35
        },
        "outputId": "5bff490c-30a9-4be7-e15c-b66eadf5ff2b"
      },
      "outputs": [
        {
          "output_type": "execute_result",
          "data": {
            "text/plain": [
              "'The rate in A (10.89 per 1,000) is greater than the rate in B (3.53 per 1,000).'"
            ],
            "application/vnd.google.colaboratory.intrinsic+json": {
              "type": "string"
            }
          },
          "metadata": {},
          "execution_count": 6
        }
      ],
      "source": [
        "diff_in_rate_normalized(5, 459, 30, 8500)"
      ]
    },
    {
      "cell_type": "markdown",
      "id": "dbde8b06",
      "metadata": {
        "id": "dbde8b06"
      },
      "source": [
        "## 14.3 LACE Score\n",
        "There is a simple readmission index called the LACE Score:\n",
        "https://www.mdcalc.com/calc/3805/lace-index-readmission\n",
        "\n",
        "Use this documentation to create a function that can compute LACE scores based on the 4 input parameters.\n",
        "\n",
        "Below is the function signature and documentation that you start with."
      ]
    },
    {
      "cell_type": "code",
      "execution_count": 31,
      "id": "87f3bab8",
      "metadata": {
        "id": "87f3bab8"
      },
      "outputs": [],
      "source": [
        "def LACE(length_of_stay, acute_flag, charlson, ed_visits):\n",
        "    \"\"\"\n",
        "    (int, int, int, int) -> str\n",
        "    * count_a is the number of occurences in area A\n",
        "    * total_a is the total population in area A\n",
        "    * count_b is the number of occurences in area B\n",
        "    * total_b is the total population in area B\n",
        "\n",
        "    This function returns a string describing how A and B compare in terms of occurrence rates per 1,000 population\n",
        "    for example:\n",
        "      msg = \"The rate in A ({}) is greater than the rate in B ({}).\".format(rate_a, rate_b)\n",
        "    \"\"\"\n",
        "    \"\"\"\n",
        "    Compute the LACE score for hospital readmission risk.\n",
        "\n",
        "    Official scoring system from:\n",
        "    https://www.mdcalc.com/calc/3805/lace-index-readmission\n",
        "\n",
        "    Parameters:\n",
        "    - length_of_stay: int (number of days hospitalized)\n",
        "    - acute_flag: bool (True if acute admission, False otherwise)\n",
        "    - charlson: int (Charlson comorbidity score)\n",
        "    - ed_visits: int (ED visits in the last 6 months)\n",
        "\n",
        "    Returns:\n",
        "    - int (LACE score)\n",
        "\n",
        "    Examples:\n",
        "    >>> LACE(4, False, 1, 0)\n",
        "    5\n",
        "    >>> LACE(4, True, 4, 7)\n",
        "    16\n",
        "    \"\"\"\n",
        "\n",
        "    ### BEGIN SOLUTION\n",
        "    # --- Length of Stay Points ---\n",
        "    if length_of_stay == 0:\n",
        "        los_points = 0\n",
        "    elif length_of_stay == 1:\n",
        "        los_points = 1\n",
        "    elif length_of_stay == 2:\n",
        "        los_points = 2\n",
        "    elif length_of_stay == 3:\n",
        "        los_points = 3\n",
        "    elif 4 <= length_of_stay <= 6:\n",
        "        los_points = 4\n",
        "    elif 7 <= length_of_stay <= 13:\n",
        "        los_points = 5\n",
        "    else:  # >= 14 days\n",
        "        los_points = 7\n",
        "\n",
        "    # --- Acute Admission Points ---\n",
        "    acute_points = 3 if acute_flag else 0\n",
        "\n",
        "    # --- Charlson Comorbidity Points ---\n",
        "    if charlson == 0:\n",
        "        charlson_points = 0\n",
        "    elif charlson == 1:\n",
        "        charlson_points = 1\n",
        "    elif charlson == 2:\n",
        "        charlson_points = 2\n",
        "    elif charlson == 3:\n",
        "        charlson_points = 3\n",
        "    else:  # >= 4\n",
        "        charlson_points = 5\n",
        "\n",
        "    # --- ED Visits Points ---\n",
        "    if ed_visits == 0:\n",
        "        ed_points = 0\n",
        "    elif ed_visits == 1:\n",
        "        ed_points = 1\n",
        "    elif ed_visits == 2:\n",
        "        ed_points = 2\n",
        "    elif ed_visits == 3:\n",
        "        ed_points = 3\n",
        "    else:  # >= 4\n",
        "        ed_points = 4  # maxes out at 4\n",
        "\n",
        "    total_score = los_points + acute_points + charlson_points + ed_points\n",
        "    ### END SOLUTION\n",
        "\n",
        "    return total_score"
      ]
    },
    {
      "cell_type": "code",
      "execution_count": 32,
      "id": "d067fb9e",
      "metadata": {
        "id": "d067fb9e"
      },
      "outputs": [],
      "source": [
        "assert LACE(4, False, 1, 0) == 5\n",
        "assert LACE(4, True , 4, 7) == 16"
      ]
    },
    {
      "cell_type": "markdown",
      "id": "7759bda7",
      "metadata": {
        "id": "7759bda7"
      },
      "source": [
        "## 14.4 Care Management Criteria\n",
        "Care managers use LACE as part of the criteria for assigning a care coordinator to a patient who has been recently discharged.\n",
        "\n",
        "If the score is above 10, then a care coordinator will be assigned.\n",
        "\n",
        "The other criteria they use is if the patient has been discharged with a diagnosis of CHF or COPD.\n",
        "If the diagnosis field has CHF or COPD in it, then the patient will have a care coordinator assigned.\n",
        "\n",
        "For this exercise, write another function that takes the same inputs as LACE() plus another diagnosis parameter, and return True or False depending on if the patient needs a care coordinator.\n",
        "\n",
        "NOTE: Pay attention to the fact that the order of parameters in this function definition are not the same as the order they were in the LACE score."
      ]
    },
    {
      "cell_type": "code",
      "execution_count": 20,
      "id": "35769eb1",
      "metadata": {
        "id": "35769eb1"
      },
      "outputs": [],
      "source": [
        "def assign_care_coordinator(diagnosis_cd, ed_visits, length_of_stay, acute_flag, charlson):\n",
        "    \"\"\"\n",
        "    (str, int, int, bool, int) -> bool\n",
        "    Care managers use LACE as part of the criteria for assigning a care coordinator to a\n",
        "    patient who has been recently discharged. If the score is above 10, then a care\n",
        "    coordinator will be assigned. The other criteria they use is if the patient was\n",
        "    discharged with a diagnosis of CHF or COPD. If the diagnosis field has CHF or COPD in\n",
        "    it, then the patient will have a care coordinator assigned.\n",
        "\n",
        "    >>> assign_care_coordinator('None', 0, 4, False, 1)\n",
        "    False\n",
        "\n",
        "    >>> assign_care_coordinator('CHF', 0, 4, False, 1)\n",
        "    True\n",
        "\n",
        "    >>> assign_care_coordinator('COPD', 0, 4, False, 1)\n",
        "    True\n",
        "\n",
        "    >>> assign_care_coordinator('None', 7, 4, True, 4)\n",
        "    True\n",
        "\n",
        "    >>> assign_care_coordinator('CHF', 7, 4, True, 4)\n",
        "    True\n",
        "    \"\"\"\n",
        "\n",
        "    ### BEGIN SOLUTION\n",
        "    # Step 1: Normalize diagnosis to uppercase to handle 'chf', 'copd', etc.\n",
        "    diagnosis = diagnosis_cd.strip().upper()\n",
        "\n",
        "    # Step 2: Check diagnosis criteria first\n",
        "    if \"CHF\" in diagnosis or \"COPD\" in diagnosis:\n",
        "        return True\n",
        "\n",
        "    # Step 3: Compute LACE score (using simplified version we defined earlier)\n",
        "    los = length_of_stay\n",
        "    acute = 3 if acute_flag else 0\n",
        "    charls = charlson\n",
        "    edv = ed_visits\n",
        "    lace_score = los + acute + charls + edv\n",
        "\n",
        "    # Step 4: Assign care coordinator if LACE > 10\n",
        "    assignment = lace_score > 10\n",
        "    ### END SOLUTION\n",
        "    return assignment\n",
        ""
      ]
    },
    {
      "cell_type": "code",
      "execution_count": 21,
      "id": "4c6c0983",
      "metadata": {
        "id": "4c6c0983"
      },
      "outputs": [],
      "source": [
        "assert assign_care_coordinator('None', 0, 4, False, 1) == False\n",
        "assert assign_care_coordinator('CHF', 0, 4, False, 1) == True\n",
        "assert assign_care_coordinator('COPD', 0, 4, False, 1) == True\n",
        "assert assign_care_coordinator('None', 7, 4, True, 4) == True\n",
        "assert assign_care_coordinator('CHF', 7, 4, True, 4) == True"
      ]
    },
    {
      "cell_type": "markdown",
      "id": "f580838c",
      "metadata": {
        "id": "f580838c"
      },
      "source": [
        "## 14.5 qCSI COVID-19 Severity Index\n",
        "See: https://www.mdcalc.com/quick-covid-19-severity-index-qcsi#evidence\n",
        "\n",
        "Calculate the total risk score as per the point values assigned to respiratory rate, pulse oximetry, and O2 flow rate.\n",
        "Then calculate and return the Risk Level.\n",
        "\n",
        "In addition to the rules provided at the link above, also add the following checks for valid values:\n",
        "\n",
        "- If respiratory_rate <= 0 then return 'invalid respiratory rate'\n",
        "- If pulse_ox <= 0 then return 'invalid pulse ox'\n",
        "- If pulse_ox > 100 then return 'invalid pulse ox'\n",
        "- If o2_flow <= 0 then return 'invalid O2 flow rate'"
      ]
    },
    {
      "cell_type": "code",
      "execution_count": 28,
      "id": "cb8c7f70",
      "metadata": {
        "id": "cb8c7f70"
      },
      "outputs": [],
      "source": [
        "def qcsi(respiratory_rate, pulse_ox, o2_flow):\n",
        "    \"\"\"\n",
        "    (int, int, int) -> str\n",
        "    * respiratory_rate is an integer value\n",
        "    * pulse_ox is an integer value (e.g. 30 means 30%)\n",
        "    * o2_flow is an integer value\n",
        "    \"\"\"\n",
        "\n",
        "\n",
        "    ### BEGIN SOLUTION\n",
        "    # --- Input Validation ---\n",
        "    if respiratory_rate <= 0:\n",
        "        return \"invalid respiratory rate\"\n",
        "    if pulse_ox <= 0 or pulse_ox > 100:\n",
        "        return \"invalid pulse ox\"\n",
        "    if o2_flow <= 0:\n",
        "        return \"invalid O2 flow rate\"\n",
        "\n",
        "    # --- Assign points based on QCSI criteria ---\n",
        "    # Respiratory rate points\n",
        "    if respiratory_rate <= 22:\n",
        "        rr_points = 0\n",
        "    elif 23 <= respiratory_rate <= 28:\n",
        "        rr_points = 1\n",
        "    else:  # >= 29\n",
        "        rr_points = 2\n",
        "\n",
        "    # Pulse ox points\n",
        "    if pulse_ox >= 92:\n",
        "        spo2_points = 0\n",
        "    elif 89 <= pulse_ox <= 91:\n",
        "        spo2_points = 2\n",
        "    else:  # <= 88\n",
        "        spo2_points = 5\n",
        "\n",
        "    # O₂ flow rate points\n",
        "    if o2_flow <= 2:\n",
        "        o2_points = 0\n",
        "    elif 3 <= o2_flow <= 4:\n",
        "        o2_points = 4\n",
        "    else:  # >= 5\n",
        "        o2_points = 5\n",
        "\n",
        "    total_score = rr_points + spo2_points + o2_points\n",
        "\n",
        "    # Risk level mapping\n",
        "    if total_score <= 3:\n",
        "        level = \"low\"\n",
        "    elif 4 <= total_score <= 6:\n",
        "        level = \"low-intermediate\"\n",
        "    elif 7 <= total_score <= 9:\n",
        "        level = \"high-intermediate\"\n",
        "    else:  # >= 10\n",
        "        level = \"high\"\n",
        "    ### END SOLUTION\n",
        "    return level\n",
        "\n",
        ""
      ]
    },
    {
      "cell_type": "code",
      "execution_count": 29,
      "id": "9801819a",
      "metadata": {
        "id": "9801819a"
      },
      "outputs": [],
      "source": [
        "assert qcsi(29, 95, 1) == 'low'\n",
        "assert qcsi(20, 93, 1) == 'low'\n",
        "assert qcsi(29, 88, 1) == 'high-intermediate'\n",
        "assert qcsi(29, 88, 4) == 'high'\n",
        "assert qcsi(30, 90, 1) == 'low-intermediate'\n",
        "assert qcsi(28, 92, -1) == 'invalid O2 flow rate'"
      ]
    }
  ],
  "metadata": {
    "colab": {
      "provenance": [],
      "include_colab_link": true
    },
    "language_info": {
      "name": "python"
    },
    "kernelspec": {
      "name": "python3",
      "display_name": "Python 3"
    }
  },
  "nbformat": 4,
  "nbformat_minor": 5
}