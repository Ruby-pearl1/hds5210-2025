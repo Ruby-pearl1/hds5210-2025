{
  "nbformat": 4,
  "nbformat_minor": 0,
  "metadata": {
    "colab": {
      "provenance": [],
      "include_colab_link": true
    },
    "kernelspec": {
      "name": "python3",
      "display_name": "Python 3"
    },
    "language_info": {
      "name": "python"
    }
  },
  "cells": [
    {
      "cell_type": "markdown",
      "metadata": {
        "id": "view-in-github",
        "colab_type": "text"
      },
      "source": [
        "<a href=\"https://colab.research.google.com/github/Ruby-pearl1/hds5210-2025/blob/main/week01/assignment1.ipynb\" target=\"_parent\"><img src=\"https://colab.research.google.com/assets/colab-badge.svg\" alt=\"Open In Colab\"/></a>"
      ]
    },
    {
      "cell_type": "markdown",
      "source": [
        "# Week 1 Assignment\n",
        "The goal of this first assignment is to demonstrate that you know how to interact with Google Colab and GitHub using the process we'll be using to submit assignments and receive deedback in the course.Complete the steps below:\n",
        "\n",
        "\n",
        "\n",
        "1.   Open this notebook in Google Colab from my GitHub repository named *hds5210-2025*\n",
        "2.   Edit the variables in the first cell below with your information\n",
        "3.   Choose Runtime->Restart and run all, or if you haven't run anybefore, just hit run all\n",
        "4.   Save this notebook to the following path in your own GitHub repository: week01/assignment1.ipynb\n",
        "5.   Verify that you can see your file in the GitHub as noted in print statement\n",
        "\n"
      ],
      "metadata": {
        "id": "jSK3KO1xQsrr"
      }
    },
    {
      "cell_type": "code",
      "execution_count": 1,
      "metadata": {
        "id": "fbA3gtRgQjcE"
      },
      "outputs": [],
      "source": [
        "my_email = 'ratitso@.slu.edu'\n",
        "my_github = 'Ruby-Pearl'\n",
        "my_repository = 'hds5210-2025'"
      ]
    },
    {
      "cell_type": "code",
      "source": [
        "print(f'''\n",
        "If I did this right, after saving to GitHub I'll see this file at https://github.com/{my_github}/{my_repository}/blob/main/week01/assignment1.ipynb\n",
        "''')\n"
      ],
      "metadata": {
        "colab": {
          "base_uri": "https://localhost:8080/"
        },
        "id": "_wvoV24CSIrY",
        "outputId": "f52cb045-24fb-43eb-c48f-93d92f4fd752"
      },
      "execution_count": 2,
      "outputs": [
        {
          "output_type": "stream",
          "name": "stdout",
          "text": [
            "\n",
            "If I did this right, after saving to GitHub I'll see this file at https://github.com/Ruby-Pearl/hds5210-2025/blob/main/week01/assignment1.ipynb\n",
            "\n"
          ]
        }
      ]
    }
  ]
}