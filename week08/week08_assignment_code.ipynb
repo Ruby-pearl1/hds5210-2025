{
  "cells": [
    {
      "cell_type": "markdown",
      "metadata": {
        "id": "view-in-github",
        "colab_type": "text"
      },
      "source": [
        "<a href=\"https://colab.research.google.com/github/Ruby-pearl1/hds5210-2025/blob/main/week08/week08_assignment_code.ipynb\" target=\"_parent\"><img src=\"https://colab.research.google.com/assets/colab-badge.svg\" alt=\"Open In Colab\"/></a>"
      ]
    },
    {
      "cell_type": "markdown",
      "metadata": {
        "id": "wRMNogLtMQk0"
      },
      "source": [
        "# Week 8 Assignment\n",
        "\n",
        "We've been working with different types of data structures in Python (dictionary, list, etc), how those are represented in JSON documents, and how to write code to access specific data elements. In this week's assignment, you will need to create your own JSON document to store information about yourself and the grades you've received from week 1 to week 4 and the week 6 quiz.  That is, everything you should have received a grade for.  Then you'll need to show me you know how to navigate the JSON in that file.\n",
        "\n",
        "Different from what we've done in the past, you do not have to write any functions or include any docstrings.  Just create some JSON and write some code.\n",
        "\n",
        "---"
      ]
    },
    {
      "cell_type": "markdown",
      "metadata": {
        "id": "2yB8HaJgMQk7"
      },
      "source": [
        "## 7.1 Create a JSON file\n",
        "\n",
        "Create a JSON file that contains your name, email, year you were born, all of the grades you've received back so far, and a comment about what you thought was most challenging on each of those assignments.  This can be any structure you choose, but make sure it uses a dictionary and a list, and has at least two levels of hierarchy.  That is, it can't just be one big long list."
      ]
    },
    {
      "cell_type": "markdown",
      "metadata": {
        "id": "rBL1TxthMQlA"
      },
      "source": [
        "First, explain how your data structure is going to look..."
      ]
    },
    {
      "cell_type": "markdown",
      "source": [
        "I designed my JSON file to use a dictionary at the top level representing myself as a person. The main keys include my name, email, and year of birth, along with a key called \"grades\". The \"grades\" key stores a list of dictionaries, where each dictionary represents one assignment with its week number, title, grade received, and a comment about what I found most challenging. This structure includes both a dictionary and a list and demonstrating at least two levels of hierarchy as required."
      ],
      "metadata": {
        "id": "0KliLTDZ9sif"
      }
    },
    {
      "cell_type": "markdown",
      "source": [],
      "metadata": {
        "id": "0LVYsjfl9mgU"
      }
    },
    {
      "cell_type": "markdown",
      "metadata": {
        "id": "rh8Ej7mrMQlB"
      },
      "source": [
        "* Put your explanation here in text..."
      ]
    },
    {
      "cell_type": "markdown",
      "source": [
        "PERSON → { name, email, birth_year, grades }\n",
        "grades → [ {week, assignment, grade, comment}, {…}, … ]\n"
      ],
      "metadata": {
        "id": "8xHABjlk99Jg"
      }
    },
    {
      "cell_type": "markdown",
      "source": [],
      "metadata": {
        "id": "igf8nqua9oQg"
      }
    },
    {
      "cell_type": "markdown",
      "metadata": {
        "id": "NDn6x4FdMQlC"
      },
      "source": [
        "Then put the actual JSON you've created inside the multiline string below..."
      ]
    },
    {
      "cell_type": "code",
      "execution_count": 5,
      "metadata": {
        "id": "1AIb_P8hMQlD"
      },
      "outputs": [],
      "source": [
        "\n",
        "hds5210 = \"\"\"\n",
        "{\n",
        "  \"name\": \"Ruby Atitso\",\n",
        "  \"email\": \"ruby.atitso@slu.edu\",\n",
        "  \"birth_year\": 1988,\n",
        "  \"grades\": [\n",
        "    {\n",
        "      \"week\": 1,\n",
        "      \"assignment\": \"Colab + GitHub workflow check\",\n",
        "      \"grade\": \"15/15\",\n",
        "      \"comment\": \"Learning indentation rules and Jupyter Notebook navigation was hardest.\"\n",
        "    },\n",
        "    {\n",
        "      \"week\": 2,\n",
        "      \"assignment\": \"Working with Lists and Dictionaries\",\n",
        "      \"grade\": \"10/10\",\n",
        "      \"comment\": \"Nested dictionaries took some practice but made sense after examples.\"\n",
        "    },\n",
        "    {\n",
        "      \"week\": 3,\n",
        "      \"assignment\": \"Conditionals and Loops\",\n",
        "      \"grade\": \"10/10\",\n",
        "      \"comment\": \"Choosing between for and while loops was confusing at first.\"\n",
        "    },\n",
        "    {\n",
        "      \"week\": 4,\n",
        "      \"assignment\": \"Data structures\",\n",
        "      \"grade\": \"10/10\",\n",
        "      \"comment\": \"Remembering try/except syntax was the main challenge.\"\n",
        "    },\n",
        "    {\n",
        "      \"week\": 6,\n",
        "      \"assignment\": \"Quiz on Data Structures and JSON\",\n",
        "      \"grade\": \"10/10\",\n",
        "      \"comment\": \"Remembering JSON syntax differences from Python dicts was toughest.\"\n",
        "    }\n",
        "  ]\n",
        "}\n",
        "\"\"\"\n"
      ]
    },
    {
      "cell_type": "markdown",
      "metadata": {
        "id": "EO6PQmqBMQlH"
      },
      "source": [
        "## 7.2 Do something with your JSON\n",
        "\n",
        "Now use Python code to do something with the Json above.  Turn it into English text, but make sure that you use at least one loop to access some dict or list content of your JSON.  Below, I've provided some basic code to read in the string above as JSON and return a Python object.  Your job is to work with that data structure and print out the important information like your name, email, and how you did on each assignment."
      ]
    },
    {
      "cell_type": "code",
      "execution_count": 6,
      "metadata": {
        "id": "gdbFxaBwMQlJ",
        "colab": {
          "base_uri": "https://localhost:8080/"
        },
        "outputId": "86227332-74b6-466d-e12e-e2545666ee87"
      },
      "outputs": [
        {
          "output_type": "stream",
          "name": "stdout",
          "text": [
            "{\n",
            "  \"name\": \"Ruby Atitso\",\n",
            "  \"email\": \"ruby.atitso@slu.edu\",\n",
            "  \"birth_year\": 1988,\n",
            "  \"grades\": [\n",
            "    {\n",
            "      \"week\": 1,\n",
            "      \"assignment\": \"Colab + GitHub workflow check\",\n",
            "      \"grade\": \"15/15\",\n",
            "      \"comment\": \"Learning indentation rules and Jupyter Notebook navigation was hardest.\"\n",
            "    },\n",
            "    {\n",
            "      \"week\": 2,\n",
            "      \"assignment\": \"Working with Lists and Dictionaries\",\n",
            "      \"grade\": \"10/10\",\n",
            "      \"comment\": \"Nested dictionaries took some practice but made sense after examples.\"\n",
            "    },\n",
            "    {\n",
            "      \"week\": 3,\n",
            "      \"assignment\": \"Conditionals and Loops\",\n",
            "      \"grade\": \"10/10\",\n",
            "      \"comment\": \"Choosing between for and while loops was confusing at first.\"\n",
            "    },\n",
            "    {\n",
            "      \"week\": 4,\n",
            "      \"assignment\": \"Data structures\",\n",
            "      \"grade\": \"10/10\",\n",
            "      \"comment\": \"Remembering try/except syntax was the main challenge.\"\n",
            "    },\n",
            "    {\n",
            "      \"week\": 6,\n",
            "      \"assignment\": \"Quiz on Data Structures and JSON\",\n",
            "      \"grade\": \"10/10\",\n",
            "      \"comment\": \"Remembering JSON syntax differences from Python dicts was toughest.\"\n",
            "    }\n",
            "  ]\n",
            "}\n"
          ]
        }
      ],
      "source": [
        "import json\n",
        "\n",
        "info = json.loads(hds5210)\n",
        "print(json.dumps(info, indent=2))"
      ]
    },
    {
      "cell_type": "code",
      "source": [
        "import json\n",
        "\n",
        "info = json.loads(hds5210)\n",
        "\n",
        "me = info[\"name\"]\n",
        "email = info[\"email\"]\n",
        "birth = info[\"birth_year\"]\n",
        "grades = info[\"grades\"]\n",
        "grade_count = len(grades)\n",
        "\n",
        "scores = []\n",
        "for g in grades:\n",
        "    num, den = g[\"grade\"].split(\"/\")\n",
        "    scores.append(float(num) / float(den) * 100)\n",
        "avg = sum(scores) / len(scores)\n",
        "\n",
        "print(f\"Hi, my name is {me}. I was born in {birth}, and my email is {email}.\")\n",
        "print(f\"I’ve completed {grade_count} graded assignments so far.\")\n",
        "print(\"Here are my scores:\")\n",
        "\n",
        "for g in grades:\n",
        "    print(f\"  Week {g['week']}: {g['assignment']} — {g['grade']}\")\n",
        "\n",
        "print(f\"My average score across all assignments is {avg:.1f}%.\")"
      ],
      "metadata": {
        "colab": {
          "base_uri": "https://localhost:8080/"
        },
        "id": "fZ-dcCFRBVMf",
        "outputId": "644b4cfd-f552-404c-de70-9b5abab9c8d0"
      },
      "execution_count": 7,
      "outputs": [
        {
          "output_type": "stream",
          "name": "stdout",
          "text": [
            "Hi, my name is Ruby Atitso. I was born in 1988, and my email is ruby.atitso@slu.edu.\n",
            "I’ve completed 5 graded assignments so far.\n",
            "Here are my scores:\n",
            "  Week 1: Colab + GitHub workflow check — 15/15\n",
            "  Week 2: Working with Lists and Dictionaries — 10/10\n",
            "  Week 3: Conditionals and Loops — 10/10\n",
            "  Week 4: Data structures — 10/10\n",
            "  Week 6: Quiz on Data Structures and JSON — 10/10\n",
            "My average score across all assignments is 100.0%.\n"
          ]
        }
      ]
    },
    {
      "cell_type": "markdown",
      "metadata": {
        "id": "1XFUb_nHMQlK"
      },
      "source": [
        "## 7.3 Reflect\n",
        "\n",
        "Write a paragraph on any reflections you have. Was this hard? Easy?  What parts were most challenging or easiest? What did you like or dislike about the assignment?  Share whatever important thoughts you have abou this assignment."
      ]
    },
    {
      "cell_type": "markdown",
      "source": [],
      "metadata": {
        "id": "xiRHuwf0DBZ9"
      }
    },
    {
      "cell_type": "markdown",
      "metadata": {
        "id": "8fLAsfWxMQlM"
      },
      "source": [
        "* Put your response here"
      ]
    },
    {
      "cell_type": "markdown",
      "source": [
        "This assignment was a good way to practice working with JSON data and Python together. It wasn’t too hard, but I had to be careful with the syntax and structure to make sure the code ran correctly. The most challenging part was understanding how to nest dictionaries and lists, but once I figured that out, it became easier. Overall, I enjoyed seeing how these concepts connect and how JSON can be used to organize information clearly.\n"
      ],
      "metadata": {
        "id": "P-PYgVijDDMi"
      }
    },
    {
      "cell_type": "markdown",
      "metadata": {
        "id": "SAhJZJ2dMQlM"
      },
      "source": [
        "---\n",
        "\n",
        "# Example\n",
        "\n",
        "Below is an example of something similar, but this uses information my and my friend's kids instead of grades."
      ]
    },
    {
      "cell_type": "code",
      "execution_count": 8,
      "metadata": {
        "colab": {
          "base_uri": "https://localhost:8080/"
        },
        "id": "JufpaBwLMQlM",
        "outputId": "07d1b11e-212d-4c48-c98a-80033370f963"
      },
      "outputs": [
        {
          "output_type": "stream",
          "name": "stdout",
          "text": [
            "Hi, my name is Tong. I've got 3 cats. Their names are FurryBall, Doggie, MiMi.\n",
            "My friend, Joe has 1 cats. That's fewer than me. Their names are Lucy\n"
          ]
        }
      ],
      "source": [
        "hds5210 = \"\"\"\n",
        "{\n",
        "    \"me\": {\n",
        "        \"name\": \"Tong\",\n",
        "        \"cats\": [\"FurryBall\", \"Doggie\", \"MiMi\"]\n",
        "    },\n",
        "    \"friend\": {\n",
        "        \"name\": \"Joe\",\n",
        "        \"cats\": [\"Lucy\"]\n",
        "    }\n",
        "}\n",
        "\"\"\"\n",
        "\n",
        "import json\n",
        "\n",
        "info = json.loads(hds5210)\n",
        "\n",
        "me = info[\"me\"][\"name\"]\n",
        "my_cats_count = len(info[\"me\"][\"cats\"])\n",
        "cats_list = \", \".join(info[\"me\"][\"cats\"])\n",
        "friend = info[\"friend\"][\"name\"]\n",
        "friends_cat_count = len(info[\"friend\"][\"cats\"])\n",
        "friend_cats = \", \".join(info[\"friend\"][\"cats\"])\n",
        "compare = \"more\" if friends_cat_count > my_cats_count else \"fewer\"\n",
        "\n",
        "print(f\"Hi, my name is {me}. I've got {my_cats_count} cats. Their names are {cats_list}.\")\n",
        "print(f\"My friend, {friend} has {friends_cat_count} cats. That's {compare} than me. Their names are {friend_cats}\")"
      ]
    }
  ],
  "metadata": {
    "kernelspec": {
      "display_name": "Python 3",
      "language": "python",
      "name": "python3"
    },
    "language_info": {
      "codemirror_mode": {
        "name": "ipython",
        "version": 3
      },
      "file_extension": ".py",
      "mimetype": "text/x-python",
      "name": "python",
      "nbconvert_exporter": "python",
      "pygments_lexer": "ipython3",
      "version": "3.9.16"
    },
    "colab": {
      "provenance": [],
      "include_colab_link": true
    }
  },
  "nbformat": 4,
  "nbformat_minor": 0
}