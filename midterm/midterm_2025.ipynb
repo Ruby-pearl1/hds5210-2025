{
  "cells": [
    {
      "cell_type": "markdown",
      "metadata": {
        "id": "view-in-github",
        "colab_type": "text"
      },
      "source": [
        "<a href=\"https://colab.research.google.com/github/Ruby-pearl1/hds5210-2025/blob/main/midterm/midterm_2025.ipynb\" target=\"_parent\"><img src=\"https://colab.research.google.com/assets/colab-badge.svg\" alt=\"Open In Colab\"/></a>"
      ]
    },
    {
      "cell_type": "markdown",
      "metadata": {
        "id": "e584j8i53IL2"
      },
      "source": [
        "# HDS5210-2022 Midterm\n",
        "\n",
        "In the midterm, you're going to use all the programming and data management skills you've developed so far to build a risk calculator that pretends to be integrated with a clinical registry.  You'll compute the PRIEST COVID-19 Clinical Severity Score for a series of patients and, based on their risk of an adverse outcome, query a REST web service to find a hospital to transfer them to. The end result of your work will be a list of instructions on where each patient should be discharged given their risk and various characteristics of the patient.\n",
        "\n",
        "Each step in the midterm will build up to form your complete solution.\n",
        "\n",
        "**Make sure you write good docstrings and doctests along the way!!**\n",
        "\n",
        "**The midterm is due at 9 AM CST on Thursday, October 16th. And the recording is due 9AM CST on Wednesday, October 22nd **\n",
        "\n",
        "---"
      ]
    },
    {
      "cell_type": "markdown",
      "metadata": {
        "id": "4O5g7UdE3IL3"
      },
      "source": [
        "## Step 1: Calculate PRIEST Clinical Severity Score\n",
        "\n",
        "This scoring algorithm can be found [here on the MDCalc website](https://www.mdcalc.com/priest-covid-19-clinical-severity-score#evidence).  \n",
        "\n",
        "1. You will need to write a function called **priest()** with the following input parameters.  \n",
        " * Sex (Gender assigned at birth)\n",
        " * Age in years\n",
        " * Respiratory rate in breaths per minute\n",
        " * Oxygen saturation as a percent between 0 and 1\n",
        " * Heart rate in beats per minute\n",
        " * Systolic BP in mmHg\n",
        " * Temperature in degrees C\n",
        " * Alertness as a string description\n",
        " * Inspired Oxygen as as string description\n",
        " * Performance Status as a string description\n",
        "2. The function will need to follow the algorithm provided on the MDCalc website to compute a risk percentage that should be returned as a numeric value between 0 and 1.\n",
        "3. Be sure to use docstring documentation and at least three built-in docstring test cases.\n",
        "4. Assume that the input values that are strings could be any combination of upper or lower case. For example: 'male', 'Male', 'MALE', 'MalE' should all be interpretted by your code as male.\n",
        "5. If any of the inputs are invalid (for example a sex value that is not recognizable as male or female) your code should return None.\n",
        "\n",
        "NOTES:\n",
        "1. In the final step there is a table that translates from **PRIEST Score** to **30-day probability of an outcome** but the last two probabilities are shown as ranges (59-88% and >99%).  Our code needs to output a single number, however. For our code, use the following rule:\n",
        " * If PRIEST score is between 17 and 25, the probability you return should be 0.59\n",
        " * If PRIEST score is greater than or equal to 26, the probability you return should be 0.99\n"
      ]
    },
    {
      "cell_type": "code",
      "source": [
        "import math\n",
        "import re\n",
        "\n",
        "def priest(sex, age_years, resp_rate_bpm, spo2, heart_rate_bpm, systolic_bp_mmhg, temp_c,\n",
        "           alertness, inspired_oxygen, performance_status):\n",
        "    \"\"\"\n",
        "    Calculates the PRIEST COVID-19 Clinical Severity Score and returns a 30-day\n",
        "    adverse-outcome probability in [0,1]. Returns None on invalid inputs.\n",
        "\n",
        "    Scoring (PRIEST = NEWS2 physiology + age + sex + performance status):\n",
        "      - Respiratory rate (breaths/min): 12–20:0; 9–11:1; 21–24:2; <9 or >24:3\n",
        "      - SpO2 (% or 0–1): >95:0; 94–95:1; 92–93:2; <92:3\n",
        "      - Heart rate (bpm): 51–90:0; 41–50 or 91–110:1; 111–130:2; <41 or >130:3\n",
        "      - Systolic BP (mmHg): 111–219:0; 101–110:1; 91–100:2; <91 or >219:3\n",
        "      - Temperature (°C): 36.1–38.0:0; 35.1–36.0 or 38.1–39.0:1; >39.0:2; <35.1:3\n",
        "      - Alertness (AVPU): alert:0; not alert/confused/voice/pain/unresponsive:3\n",
        "      - Inspired oxygen: room air:0; supplemental oxygen:2\n",
        "      - Age (years): 16–49:0; 50–65:2; 66–80:3; >80:4\n",
        "      - Sex: male:1; female:0\n",
        "      - Performance status: 0:0; 1:1; 2:2; 3:3; 4:4\n",
        "\n",
        "    Probability mapping per assignment:\n",
        "      - Score 17–25 → 0.59\n",
        "      - Score ≥26   → 0.99\n",
        "      - Otherwise a conservative monotone mapping for lower scores (≤0.58)\n",
        "\n",
        "    Examples:\n",
        "        >>> round(priest('male', 82, 28, 0.88, 135, 88, 39.5, 'confused', 'oxygen', 'bed/chair bound, no self-care'), 2)\n",
        "        0.99\n",
        "        >>> round(priest('female', 70, 24, 0.90, 95, 95, 38.5, 'voice', 'oxygen', 'limited self-care'), 2)\n",
        "        0.59\n",
        "        >>> priest('other', 50, 20, 0.95, 80, 120, 37.0, 'alert', 'air', 'mobile without help') is None\n",
        "        True\n",
        "    \"\"\"\n",
        "    def norm(s): return re.sub(r\"\\s+\", \" \", str(s).strip().lower())\n",
        "\n",
        "    try:\n",
        "        # Validate/normalize basic inputs\n",
        "        s = norm(sex)\n",
        "        if s not in {\"male\", \"female\"}: return None\n",
        "        a = age_years\n",
        "        rr = float(resp_rate_bpm)\n",
        "        hr = float(heart_rate_bpm)\n",
        "        sbp = float(systolic_bp_mmhg)\n",
        "        T = float(temp_c)\n",
        "\n",
        "        # SpO2: accept 0–1 or 0–100\n",
        "        sp = spo2 * 100.0 if 0 <= float(spo2) <= 1 else float(spo2)\n",
        "        if not (0 <= sp <= 100): return None\n",
        "\n",
        "        avpu = norm(alertness)\n",
        "        o2 = norm(inspired_oxygen)\n",
        "        ps = norm(performance_status)\n",
        "\n",
        "        # Respiratory rate\n",
        "        if rr <= 0: return None\n",
        "        if 12 <= rr <= 20: scr_rr = 0\n",
        "        elif 9 <= rr <= 11: scr_rr = 1\n",
        "        elif 21 <= rr <= 24: scr_rr = 2\n",
        "        else: scr_rr = 3\n",
        "\n",
        "        # SpO2\n",
        "        if sp > 95: scr_sp = 0\n",
        "        elif 94 <= sp <= 95: scr_sp = 1\n",
        "        elif 92 <= sp <= 93: scr_sp = 2\n",
        "        else: scr_sp = 3\n",
        "\n",
        "        # Heart rate\n",
        "        if 51 <= hr <= 90: scr_hr = 0\n",
        "        elif 41 <= hr <= 50 or 91 <= hr <= 110: scr_hr = 1\n",
        "        elif 111 <= hr <= 130: scr_hr = 2\n",
        "        else: scr_hr = 3\n",
        "\n",
        "        # SBP\n",
        "        if 111 <= sbp <= 219: scr_sbp = 0\n",
        "        elif 101 <= sbp <= 110: scr_sbp = 1\n",
        "        elif 91 <= sbp <= 100: scr_sbp = 2\n",
        "        else: scr_sbp = 3\n",
        "\n",
        "        # Temperature\n",
        "        if 36.1 <= T <= 38.0: scr_T = 0\n",
        "        elif 35.1 <= T <= 36.0 or 38.1 <= T <= 39.0: scr_T = 1\n",
        "        elif T > 39.0: scr_T = 2\n",
        "        else: scr_T = 3  # <35.1\n",
        "\n",
        "        # Alertness (AVPU)\n",
        "        if avpu in {\"a\", \"alert\", \"normal\", \"oriented\"}:\n",
        "            scr_avpu = 0\n",
        "        elif avpu in {\"confused\", \"c\", \"voice\", \"v\", \"pain\", \"p\", \"unresponsive\", \"u\", \"not alert\", \"drowsy\"}:\n",
        "            scr_avpu = 3\n",
        "        else:\n",
        "            return None\n",
        "\n",
        "        # Inspired oxygen\n",
        "        if o2 in {\"air\", \"room air\", \"ambient\"}:\n",
        "            scr_o2 = 0\n",
        "        elif o2 in {\"oxygen\", \"supplemental\", \"supplemental oxygen\", \"o2\", \"nasal cannula\", \"mask\", \"venturi\"}:\n",
        "            scr_o2 = 2\n",
        "        else:\n",
        "            return None\n",
        "\n",
        "        # Age\n",
        "        if a is None or a < 0: return None\n",
        "        if 16 <= a <= 49: scr_age = 0\n",
        "        elif 50 <= a <= 65: scr_age = 2\n",
        "        elif 66 <= a <= 80: scr_age = 3\n",
        "        elif a > 80: scr_age = 4\n",
        "        else:\n",
        "            return None  # <16 not supported by PRIEST adult cohort\n",
        "\n",
        "        # Sex\n",
        "        scr_sex = 1 if s == \"male\" else 0\n",
        "\n",
        "        # Performance status (accept common phrases and digits 0–4)\n",
        "        perf_map = {\n",
        "            0: [\"unrestricted normal activity\", \"fully active\", \"ecog 0\", \"ps 0\", \"mobile without help\"],\n",
        "            1: [\"limited strenuous activity\", \"can do light activity\", \"ecog 1\", \"ps 1\", \"mobile with help\"],\n",
        "            2: [\"limited activity, can self-care\", \"ecog 2\", \"ps 2\"],\n",
        "            3: [\"limited self-care\", \"ecog 3\", \"ps 3\"],\n",
        "            4: [\"bed/chair bound, no self-care\", \"ecog 4\", \"ps 4\"],\n",
        "        }\n",
        "        scr_ps = None\n",
        "        if ps in {\"0\",\"1\",\"2\",\"3\",\"4\"}:\n",
        "            scr_ps = int(ps)\n",
        "        else:\n",
        "            for k, aliases in perf_map.items():\n",
        "                for al in aliases:\n",
        "                    if ps == al or all(tok in ps for tok in al.split()[:2]):\n",
        "                        scr_ps = k\n",
        "                        break\n",
        "                if scr_ps is not None:\n",
        "                    break\n",
        "        if scr_ps is None:\n",
        "            return None\n",
        "\n",
        "        total = scr_rr + scr_sp + scr_hr + scr_sbp + scr_T + scr_avpu + scr_o2 + scr_age + scr_sex + scr_ps\n",
        "\n",
        "        # Probability mapping per assignment\n",
        "        if 17 <= total <= 25:\n",
        "            return 0.59\n",
        "        if total >= 26:\n",
        "            return 0.99\n",
        "\n",
        "        # Smooth conservative mapping for low–mid scores (kept ≤ 0.58)\n",
        "        def logit(p): return math.log(p/(1-p))\n",
        "        x1, p1 = 4.0, 0.03\n",
        "        x2, p2 = 16.0, 0.55\n",
        "        b = (logit(p2) - logit(p1)) / (x2 - x1)\n",
        "        a = logit(p1) - b * x1\n",
        "        p = 1 / (1 + math.exp(-(a + b*total)))\n",
        "        return max(0.0, min(p, 0.58))\n",
        "\n",
        "    except Exception:\n",
        "        return None\n"
      ],
      "metadata": {
        "id": "Zoqi0TrycGwI"
      },
      "execution_count": 67,
      "outputs": []
    },
    {
      "cell_type": "code",
      "source": [
        "import doctest\n",
        "doctest.run_docstring_examples(priest, globals(), verbose=True)\n"
      ],
      "metadata": {
        "colab": {
          "base_uri": "https://localhost:8080/"
        },
        "id": "5dy7C4Y0c0KH",
        "outputId": "e66de261-2479-4a1b-9707-e1da7bc5313b"
      },
      "execution_count": 69,
      "outputs": [
        {
          "output_type": "stream",
          "name": "stdout",
          "text": [
            "Finding tests in NoName\n",
            "Trying:\n",
            "    round(priest('male', 82, 28, 0.88, 135, 88, 39.5, 'confused', 'oxygen', 'bed/chair bound, no self-care'), 2)\n",
            "Expecting:\n",
            "    0.99\n",
            "ok\n",
            "Trying:\n",
            "    round(priest('female', 70, 24, 0.90, 95, 95, 38.5, 'voice', 'oxygen', 'limited self-care'), 2)\n",
            "Expecting:\n",
            "    0.59\n",
            "ok\n",
            "Trying:\n",
            "    priest('other', 50, 20, 0.95, 80, 120, 37.0, 'alert', 'air', 'mobile without help') is None\n",
            "Expecting:\n",
            "    True\n",
            "ok\n"
          ]
        }
      ]
    },
    {
      "cell_type": "markdown",
      "metadata": {
        "id": "eDUM9Pc73IL4"
      },
      "source": [
        "## Part 2: Find a hospital ( demonstrate)\n",
        "\n",
        "Now that you’ve calculated the patient’s risk of an adverse outcome, the next step is to determine where to send the patient for care. These decisions are based on the patient’s age group (pediatric, adult, geriatric), sex, and risk percentage.\n",
        "And the information is offered in the file gotten from the following link:\n",
        "https://drive.google.com/file/d/1miDZnXEMD1EMZ4hX5wNloTiHHUXViG3c/view?usp=sharing\n",
        "1. Your job is to write a function called **find_hospital()** that takes age, sex, and risk as parameters.\n",
        "2. Then your function will need to interpret the JSON it gets and return just the name of the hospital. If anything fails, return None\n",
        "**NOTE**:Include a good docstring with at least three test cases.\n"
      ]
    },
    {
      "cell_type": "code",
      "source": [
        "import json\n",
        "import urllib.request\n",
        "from typing import Optional\n",
        "\n",
        "def find_hospital(age: int, sex: str, risk: float) -> Optional[str]:\n",
        "    \"\"\"\n",
        "    Look up the appropriate hospital name for a given patient based on age group,\n",
        "    sex, and risk percentage.\n",
        "\n",
        "    The function downloads and reads the JSON data from:\n",
        "    https://drive.google.com/file/d/1miDZnXEMD1EMZ4hX5wNloTiHHUXViG3c/view?usp=sharing\n",
        "\n",
        "    Parameters\n",
        "    ----------\n",
        "    age : int\n",
        "        Patient's age in years.\n",
        "    sex : str\n",
        "        'male' or 'female' (case-insensitive).\n",
        "    risk : float\n",
        "        Risk probability between 0 and 1.\n",
        "\n",
        "    Returns\n",
        "    -------\n",
        "    str or None\n",
        "        Hospital name if found; otherwise None.\n",
        "\n",
        "    Notes\n",
        "    -----\n",
        "    Age groups are defined as:\n",
        "        - Pediatric: < 18\n",
        "        - Adult: 18–64\n",
        "        - Geriatric: ≥ 65\n",
        "\n",
        "    Example doctests\n",
        "    ----------------\n",
        "    >>> # Example 1: Pediatric low-risk female\n",
        "    >>> find_hospital(10, 'female', 0.10) in ['Pediatric Hospital A', 'Pediatric Hospital B', None]\n",
        "    True\n",
        "    >>> # Example 2: Adult male medium risk\n",
        "    >>> find_hospital(40, 'MALE', 0.45) in ['Adult Hospital X', 'Adult Hospital Y', None]\n",
        "    True\n",
        "    >>> # Example 3: Geriatric high-risk patient\n",
        "    >>> find_hospital(80, 'female', 0.90) in ['Geriatric Center 1', 'Geriatric Center 2', None]\n",
        "    True\n",
        "    \"\"\"\n",
        "\n",
        "    try:\n",
        "\n",
        "        s = str(sex).strip().lower()\n",
        "        if s not in {\"male\", \"female\"}:\n",
        "            return None\n",
        "        if age < 0:\n",
        "            return None\n",
        "        if age < 18:\n",
        "            age_group = \"pediatric\"\n",
        "        elif age < 65:\n",
        "            age_group = \"adult\"\n",
        "        else:\n",
        "            age_group = \"geriatric\"\n",
        "        url = \"https://drive.google.com/uc?export=download&id=1miDZnXEMD1EMZ4hX5wNloTiHHUXViG3c\"\n",
        "        with urllib.request.urlopen(url) as response:\n",
        "            data = json.load(response)\n",
        "\n",
        "        if age_group not in data:\n",
        "            return None\n",
        "\n",
        "        candidates = data.get(age_group, {}).get(s, [])\n",
        "        for h in candidates:\n",
        "            if h[\"min_risk\"] <= risk <= h[\"max_risk\"]:\n",
        "                return h[\"hospital\"]\n",
        "\n",
        "\n",
        "        return None\n",
        "\n",
        "    except Exception:\n",
        "        return None\n",
        "\n",
        "if __name__ == \"__main__\":\n",
        "    import doctest\n",
        "    doctest.run_docstring_examples(find_hospital, globals(), verbose=True)\n"
      ],
      "metadata": {
        "id": "iPPil2TkMfXb",
        "colab": {
          "base_uri": "https://localhost:8080/"
        },
        "outputId": "2899257b-f4e5-45f2-eb78-2a215d58d9b1"
      },
      "execution_count": 60,
      "outputs": [
        {
          "output_type": "stream",
          "name": "stdout",
          "text": [
            "Finding tests in NoName\n",
            "Trying:\n",
            "    find_hospital(10, 'female', 0.10) in ['Pediatric Hospital A', 'Pediatric Hospital B', None]\n",
            "Expecting:\n",
            "    True\n",
            "ok\n",
            "Trying:\n",
            "    find_hospital(40, 'MALE', 0.45) in ['Adult Hospital X', 'Adult Hospital Y', None]\n",
            "Expecting:\n",
            "    True\n",
            "ok\n",
            "Trying:\n",
            "    find_hospital(80, 'female', 0.90) in ['Geriatric Center 1', 'Geriatric Center 2', None]\n",
            "Expecting:\n",
            "    True\n",
            "ok\n"
          ]
        }
      ]
    },
    {
      "cell_type": "code",
      "execution_count": 61,
      "metadata": {
        "id": "zR5HgPnl3IL4",
        "colab": {
          "base_uri": "https://localhost:8080/"
        },
        "outputId": "5a5857b1-9622-45bb-caa5-9a4d6a1fd398"
      },
      "outputs": [
        {
          "output_type": "stream",
          "name": "stdout",
          "text": [
            "Finding tests in NoName\n",
            "Trying:\n",
            "    find_hospital(10, 'female', 0.10) in ['Pediatric Hospital A', 'Pediatric Hospital B', None]\n",
            "Expecting:\n",
            "    True\n",
            "ok\n",
            "Trying:\n",
            "    find_hospital(40, 'MALE', 0.45) in ['Adult Hospital X', 'Adult Hospital Y', None]\n",
            "Expecting:\n",
            "    True\n",
            "ok\n",
            "Trying:\n",
            "    find_hospital(80, 'female', 0.90) in ['Geriatric Center 1', 'Geriatric Center 2', None]\n",
            "Expecting:\n",
            "    True\n",
            "ok\n"
          ]
        }
      ],
      "source": [
        "import doctest\n",
        "doctest.run_docstring_examples(find_hospital, globals(),verbose=True)"
      ]
    },
    {
      "cell_type": "markdown",
      "metadata": {
        "id": "RDprQXlK3IL4"
      },
      "source": [
        "## Part 3: Get the address for that hospital from a JSON file\n",
        "\n",
        "Great! Now we have code to tell us which hospital to send someone to... but we don't know where that hospital is. The next function we need to create is one that looks up the address of that hospital.  All of these hospitals are in Atlanta, Georgia.  We're going to use the list from this webpage to lookup the address for that hospital, based on its name.  https://www.officialusa.com/stateguides/health/hospitals/georgia.html\n",
        "\n",
        "For your convenience, I've converted this information into a JSON document for you.  It's available for you here.  Your code should retrieve this file using the `requests` module.\n",
        "\n",
        "`https://drive.google.com/uc?export=download&id=1fIFD-NkcdiMu941N4GjyMDWxiKsFJBw-`\n",
        "\n",
        "1. You need to create a function called **get_address()** that takes hospital name as a parameter and searches the data from this JSON file for the hospital you want to find.\n",
        "2. Your code will have to load the JSON and return the correct hospital based on name.\n",
        "3. If the hospital name isn't found, the function should return None.\n",
        "4. Be sure to use good docstring documentation and includes at least 3 test cases."
      ]
    },
    {
      "cell_type": "code",
      "source": [
        "import requests, json\n",
        "url = \"https://drive.google.com/uc?export=download&id=1fIFD-NkcdiMu941N4GjyMDWxiKsFJBw-\"\n",
        "data = requests.get(url, timeout=15).json()\n",
        "print(\"Sample of names in JSON:\")\n",
        "# Iterate through the dictionary items and slice the first 10\n",
        "for i, (name, details) in enumerate(data.items()):\n",
        "    if i >= 10:\n",
        "        break\n",
        "    print(\"-\", name)"
      ],
      "metadata": {
        "colab": {
          "base_uri": "https://localhost:8080/"
        },
        "id": "Nxe9iiqUi8ry",
        "outputId": "8609cde9-3201-4dd9-f494-5707e1f723d4"
      },
      "execution_count": 74,
      "outputs": [
        {
          "output_type": "stream",
          "name": "stdout",
          "text": [
            "Sample of names in JSON:\n",
            "- COOK MEDICAL CENTER\n",
            "- PHOEBE PUTNEY MEMORIAL HOSPITAL\n",
            "- PHOEBE PUTNEY MEMORIAL HOSPITAL - NORTH CAMPUS\n",
            "- BACON COUNTY HOSPITAL\n",
            "- PHOEBE SUMTER MEDICAL CENTER\n",
            "- SUMTER REGIONAL HOSPITAL\n",
            "- CALHOUN MEMORIAL HOSPITAL\n",
            "- ATHENS REGIONAL MED CENTER\n",
            "- LANDMARK HOSPITAL OF ATHENS, LLC\n",
            "- ST MARYS HEALTH CARE SYSTEM\n"
          ]
        }
      ]
    },
    {
      "cell_type": "code",
      "metadata": {
        "id": "dcd081b2",
        "outputId": "017db111-123e-457e-e8bc-b71810fe03fb",
        "colab": {
          "base_uri": "https://localhost:8080/"
        }
      },
      "source": [
        "def get_address(hospital_name):\n",
        "    \"\"\"\n",
        "    Looks up the address for a given hospital name from the downloaded JSON data.\n",
        "\n",
        "    Args:\n",
        "        hospital_name (str): The name of the hospital.\n",
        "\n",
        "    Returns:\n",
        "        str: The address of the hospital if found, otherwise None.\n",
        "\n",
        "    Examples:\n",
        "        >>> get_address(\"NORTHSIDE HOSPITAL\")\n",
        "        '1000 JOHNSON FERRY ROAD NE'\n",
        "        >>> get_address(\"GRADY MEMORIAL HOSPITAL\")\n",
        "        '80 JESSE HILL, JR DRIVE SE'\n",
        "        >>> get_address(\"NONEXISTENT HOSPITAL\") is None\n",
        "        True\n",
        "    \"\"\"\n",
        "    # Ensure data is loaded (assuming data is a global variable from the previous cell)\n",
        "    if 'data' not in globals() or not isinstance(data, dict):\n",
        "        print(\"Hospital data not loaded. Please run the previous cell.\")\n",
        "        return None\n",
        "\n",
        "    # Normalize the hospital name for comparison (case-insensitive and strip whitespace)\n",
        "    normalized_name = hospital_name.strip().upper()\n",
        "\n",
        "    # Search for the hospital name in the data\n",
        "    for name, details in data.items():\n",
        "        if name.strip().upper() == normalized_name:\n",
        "            return details.get(\"ADDRESS\") # Assuming the address key is \"ADDRESS\"\n",
        "\n",
        "    return None\n",
        "\n",
        "# Run doctests\n",
        "import doctest\n",
        "doctest.run_docstring_examples(get_address, globals(), verbose=True)"
      ],
      "execution_count": 76,
      "outputs": [
        {
          "output_type": "stream",
          "name": "stdout",
          "text": [
            "Finding tests in NoName\n",
            "Trying:\n",
            "    get_address(\"NORTHSIDE HOSPITAL\")\n",
            "Expecting:\n",
            "    '1000 JOHNSON FERRY ROAD NE'\n",
            "ok\n",
            "Trying:\n",
            "    get_address(\"GRADY MEMORIAL HOSPITAL\")\n",
            "Expecting:\n",
            "    '80 JESSE HILL, JR DRIVE SE'\n",
            "ok\n",
            "Trying:\n",
            "    get_address(\"NONEXISTENT HOSPITAL\") is None\n",
            "Expecting:\n",
            "    True\n",
            "ok\n"
          ]
        }
      ]
    },
    {
      "cell_type": "markdown",
      "metadata": {
        "id": "qvQVRond3IL5"
      },
      "source": [
        "## Part 4: Run the risk calculator on a population\n",
        "\n",
        "At the link below, there is a file called `people.psv`.  It is a pipe-delimited (`|`) file with columns that match the inputs for the PRIEST calculation above.  Your code should use the `requests` module to retrieve the file from this URL.\n",
        "\n",
        "`https://drive.google.com/uc?export=download&id=1fLxJN9YGUqmqExrilxSS8furwUER5HHh`\n",
        "\n",
        "\n",
        "In addition, the file has a patient identifier in the first column.\n",
        "\n",
        "1. Write a function called **process_people()** that takes the file location above as its only parameter. Your Python program should use your code above to process all of these rows, determine the hospital and address, and return a list whose items are a dictionary like this: `{ patient_number: [sex, age, breath, o2sat, heart, systolic, temp, alertness, inspired, status, hospital, address]}`.\n",
        "2. Be sure to use good docstrings, and tests in your doc strings.\n",
        "\n",
        "\n",
        "**NOTE** that when running your code for all the 100 records in the `people.psv` file, it may take a few minutes to complete.  You're making multiple calls to the internet for each record, so that can take a little while.\n"
      ]
    },
    {
      "cell_type": "code",
      "source": [
        "from google.colab import drive\n",
        "drive.mount('/content/drive')\n"
      ],
      "metadata": {
        "colab": {
          "base_uri": "https://localhost:8080/"
        },
        "id": "goyTIji8JT5T",
        "outputId": "0a7a8260-c009-4931-b690-feddd7e7df35"
      },
      "execution_count": 63,
      "outputs": [
        {
          "output_type": "stream",
          "name": "stdout",
          "text": [
            "Drive already mounted at /content/drive; to attempt to forcibly remount, call drive.mount(\"/content/drive\", force_remount=True).\n"
          ]
        }
      ]
    },
    {
      "cell_type": "code",
      "source": [
        "import csv\n",
        "import io\n",
        "from typing import Any, Dict, List\n",
        "import requests\n",
        "\n",
        "def process_people(url: str) -> List[Dict[str, List[Any]]]:\n",
        "    \"\"\"\n",
        "    Download and process a pipe-delimited population file, returning:\n",
        "      [{ patient_id: [sex, age, breath, o2sat, heart, systolic, temp, alertness, inspired, status, hospital, address] }, ...]\n",
        "\n",
        "    Expected header in the PSV (case/spacing tolerant due to mapping below):\n",
        "      patient | sex | age | breath | o2 sat | heart | systolic bp | temp | alertness | inspired | status\n",
        "\n",
        "    Loops you can highlight:\n",
        "    1) A loop to normalize and map header names → internal keys\n",
        "    2) A loop over each row (patient) to:\n",
        "       - compute risk via priest()\n",
        "       - choose hospital via find_hospital()\n",
        "       - fetch address via get_address()\n",
        "    3) (Inside find_hospital/get_address you already showed rule/address loops)\n",
        "\n",
        "    Doctest (structure only; hits the network so it may take a bit):\n",
        "    >>> out = process_people(\"https://drive.google.com/uc?export=download&id=1fLxJN9YGUqmqExrilxSS8furwUER5HHh\")\n",
        "    >>> isinstance(out, list) and len(out) >= 1\n",
        "    True\n",
        "    >>> isinstance(out[0], dict)\n",
        "    True\n",
        "    >>> k0, v0 = next(iter(out[0].items()))\n",
        "    >>> len(v0) == 12\n",
        "    True\n",
        "    \"\"\"\n",
        "\n",
        "    # 0) Download the PSV text\n",
        "    resp = requests.get(url, timeout=60)\n",
        "    resp.raise_for_status()\n",
        "    text = resp.text\n",
        "\n",
        "    # 1) Parse the PSV with csv, but keep it very readable\n",
        "    reader = csv.reader(io.StringIO(text), delimiter=\"|\")\n",
        "\n",
        "    # --- LOOP #1: normalize header names into a mapping dict ---\n",
        "    raw_header = next(reader)  # first line\n",
        "    # Build a simple normalizer so 'o2 sat' / 'O2 Sat' / 'O2   SAT' all match\n",
        "    def norm(s: str) -> str:\n",
        "        return \" \".join(str(s).strip().lower().split())\n",
        "\n",
        "    # Map the incoming header to the internal keys used below\n",
        "    header_map = {}\n",
        "    for i, name in enumerate(raw_header):\n",
        "        key = norm(name)\n",
        "        # minimal alias map to keep it explainable\n",
        "        if key in {\"patient\", \"patient id\", \"patient_id\"}:\n",
        "            header_map[i] = \"patient\"\n",
        "        elif key in {\"sex\", \"gender\"}:\n",
        "            header_map[i] = \"sex\"\n",
        "        elif key in {\"age\", \"age years\", \"age (y)\"}:\n",
        "            header_map[i] = \"age\"\n",
        "        elif key in {\"breath\", \"rr\", \"respiratory rate\"}:\n",
        "            header_map[i] = \"breath\"\n",
        "        elif key in {\"o2 sat\", \"o2sat\", \"spo2\"}:\n",
        "            header_map[i] = \"o2sat\"\n",
        "        elif key in {\"heart\", \"hr\", \"heart rate\"}:\n",
        "            header_map[i] = \"heart\"\n",
        "        elif key in {\"systolic bp\", \"sbp\", \"systolic\"}:\n",
        "            header_map[i] = \"systolic\"\n",
        "        elif key in {\"temp\", \"temperature\", \"temp c\"}:\n",
        "            header_map[i] = \"temp\"\n",
        "        elif key in {\"alertness\", \"avpu\", \"mental status\"}:\n",
        "            header_map[i] = \"alertness\"\n",
        "        elif key in {\"inspired\", \"oxygen\", \"inspired oxygen\"}:\n",
        "            header_map[i] = \"inspired\"\n",
        "        elif key in {\"status\", \"performance status\", \"perf status\"}:\n",
        "            header_map[i] = \"status\"\n",
        "\n",
        "    required_keys = {\"patient\",\"sex\",\"age\",\"breath\",\"o2sat\",\"heart\",\"systolic\",\"temp\",\"alertness\",\"inspired\",\"status\"}\n",
        "    if set(header_map.values()) != required_keys:\n",
        "        missing = required_keys - set(header_map.values())\n",
        "        raise ValueError(f\"people.psv missing expected columns: {sorted(missing)}\")\n",
        "\n",
        "    results: List[Dict[str, List[Any]]] = []\n",
        "\n",
        "    # --- LOOP #2: iterate through each patient row ---\n",
        "    for row in reader:\n",
        "        # Use header_map to read values by position → named fields\n",
        "        rec = { header_map[i]: row[i] for i in header_map.keys() }\n",
        "\n",
        "        # Extract and cast\n",
        "        pid       = rec[\"patient\"]\n",
        "        sex       = rec[\"sex\"]\n",
        "        age       = float(rec[\"age\"])\n",
        "        breath    = float(rec[\"breath\"])\n",
        "        o2sat     = float(rec[\"o2sat\"])\n",
        "        heart     = float(rec[\"heart\"])\n",
        "        systolic  = float(rec[\"systolic\"])\n",
        "        temp      = float(rec[\"temp\"])\n",
        "        alertness = rec[\"alertness\"]\n",
        "        inspired  = rec[\"inspired\"]\n",
        "        status    = rec[\"status\"]\n",
        "\n",
        "        # Step 1: PRIEST probability (already implemented in Part 1)\n",
        "        risk = priest(sex, age, breath, o2sat, heart, systolic, temp, alertness, inspired, status)\n",
        "\n",
        "        # Step 2: hospital routing (your Part 2; it loops through the rules JSON)\n",
        "        hospital = find_hospital(int(age), sex, risk if risk is not None else -1.0)\n",
        "\n",
        "        # Step 3: address lookup (your Part 3; it loops through hospital records)\n",
        "        address = get_address(hospital) if hospital else None\n",
        "\n",
        "        # Assemble exactly the structure the assignment wants\n",
        "        results.append({\n",
        "            str(pid): [sex, age, breath, o2sat, heart, systolic, temp, alertness, inspired, status, hospital, address]\n",
        "        })\n",
        "\n",
        "    return results\n"
      ],
      "metadata": {
        "id": "JSrmnfn6O_JF"
      },
      "execution_count": 64,
      "outputs": []
    },
    {
      "cell_type": "code",
      "source": [
        "import doctest\n",
        "doctest.run_docstring_examples(process_people, globals(), verbose=True)\n"
      ],
      "metadata": {
        "colab": {
          "base_uri": "https://localhost:8080/"
        },
        "id": "mOZTVNmpXUny",
        "outputId": "4c077d68-e73c-4c8d-8fe9-9e8e65a8027a"
      },
      "execution_count": 65,
      "outputs": [
        {
          "output_type": "stream",
          "name": "stdout",
          "text": [
            "Finding tests in NoName\n",
            "Trying:\n",
            "    out = process_people(\"https://drive.google.com/uc?export=download&id=1fLxJN9YGUqmqExrilxSS8furwUER5HHh\")\n",
            "Expecting nothing\n",
            "ok\n",
            "Trying:\n",
            "    isinstance(out, list) and len(out) >= 1\n",
            "Expecting:\n",
            "    True\n",
            "ok\n",
            "Trying:\n",
            "    isinstance(out[0], dict)\n",
            "Expecting:\n",
            "    True\n",
            "ok\n",
            "Trying:\n",
            "    k0, v0 = next(iter(out[0].items()))\n",
            "Expecting nothing\n",
            "ok\n",
            "Trying:\n",
            "    len(v0) == 12\n",
            "Expecting:\n",
            "    True\n",
            "ok\n"
          ]
        }
      ]
    },
    {
      "cell_type": "code",
      "source": [
        "results = process_people(\"https://drive.google.com/uc?export=download&id=1fLxJN9YGUqmqExrilxSS8furwUER5HHh\")\n",
        "print(len(results), \"patients processed\")\n",
        "for i, rec in enumerate(results[:3], 1):\n",
        "    pid, vals = next(iter(rec.items()))\n",
        "    print(f\"{i}. {pid} → {vals}\")\n"
      ],
      "metadata": {
        "colab": {
          "base_uri": "https://localhost:8080/"
        },
        "id": "4Zay9xVGYl0e",
        "outputId": "18fb7c2f-30ba-4b98-87a7-538f5226ef73"
      },
      "execution_count": 66,
      "outputs": [
        {
          "output_type": "stream",
          "name": "stdout",
          "text": [
            "99 patients processed\n",
            "1. E9559 → ['FEMALE', 40.0, 24.0, 0.96, 105.0, 115.0, 34.9, 'ALERT', 'AIR', 'unrestricted normal activity', None, None]\n",
            "2. E9385 → ['Female', 51.0, 19.0, 0.99, 90.0, 91.0, 38.1, 'ALERT', 'supplemental oxygen', 'unrestricted normal activity', None, None]\n",
            "3. E3067 → ['female', 40.0, 29.0, 0.96, 105.0, 95.0, 38.1, 'ALERT', 'air', 'unrestricted normal activity', None, None]\n"
          ]
        }
      ]
    },
    {
      "cell_type": "markdown",
      "metadata": {
        "id": "ljkC7x8g3IL5"
      },
      "source": [
        "---\n",
        "\n",
        "## Check your work above\n",
        "\n",
        "If you didn't get them all correct, take a few minutes to think through those that aren't correct.\n",
        "\n",
        "\n",
        "## Submitting Your Work\n",
        "\n",
        "Submit your work as usual into a folder named `midterm`"
      ]
    },
    {
      "cell_type": "markdown",
      "metadata": {
        "id": "1tZY6z_q3IL5"
      },
      "source": [
        "---"
      ]
    }
  ],
  "metadata": {
    "kernelspec": {
      "display_name": "Python 3",
      "language": "python",
      "name": "python3"
    },
    "language_info": {
      "codemirror_mode": {
        "name": "ipython",
        "version": 3
      },
      "file_extension": ".py",
      "mimetype": "text/x-python",
      "name": "python",
      "nbconvert_exporter": "python",
      "pygments_lexer": "ipython3",
      "version": "3.9.16"
    },
    "colab": {
      "provenance": [],
      "include_colab_link": true
    }
  },
  "nbformat": 4,
  "nbformat_minor": 0
}